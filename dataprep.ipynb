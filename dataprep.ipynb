{
 "cells": [
  {
   "cell_type": "code",
   "execution_count": 3,
   "metadata": {},
   "outputs": [
    {
     "ename": "ModuleNotFoundError",
     "evalue": "No module named 'tqdm'",
     "output_type": "error",
     "traceback": [
      "\u001b[0;31m---------------------------------------------------------------------------\u001b[0m",
      "\u001b[0;31mModuleNotFoundError\u001b[0m                       Traceback (most recent call last)",
      "\u001b[0;32m<ipython-input-3-a2c4db480bd0>\u001b[0m in \u001b[0;36m<module>\u001b[0;34m\u001b[0m\n\u001b[1;32m      6\u001b[0m \u001b[0;32mimport\u001b[0m \u001b[0mnumpy\u001b[0m \u001b[0;32mas\u001b[0m \u001b[0mnp\u001b[0m\u001b[0;34m\u001b[0m\u001b[0;34m\u001b[0m\u001b[0m\n\u001b[1;32m      7\u001b[0m \u001b[0;32mfrom\u001b[0m \u001b[0mbert\u001b[0m\u001b[0;34m.\u001b[0m\u001b[0mtokenization\u001b[0m \u001b[0;32mimport\u001b[0m \u001b[0mFullTokenizer\u001b[0m\u001b[0;34m\u001b[0m\u001b[0;34m\u001b[0m\u001b[0m\n\u001b[0;32m----> 8\u001b[0;31m \u001b[0;32mfrom\u001b[0m \u001b[0mtqdm\u001b[0m \u001b[0;32mimport\u001b[0m \u001b[0mtqdm_notebook\u001b[0m\u001b[0;34m\u001b[0m\u001b[0;34m\u001b[0m\u001b[0m\n\u001b[0m\u001b[1;32m      9\u001b[0m \u001b[0;32mfrom\u001b[0m \u001b[0mtensorflow\u001b[0m\u001b[0;34m.\u001b[0m\u001b[0mkeras\u001b[0m \u001b[0;32mimport\u001b[0m \u001b[0mbackend\u001b[0m \u001b[0;32mas\u001b[0m \u001b[0mK\u001b[0m\u001b[0;34m\u001b[0m\u001b[0;34m\u001b[0m\u001b[0m\n",
      "\u001b[0;31mModuleNotFoundError\u001b[0m: No module named 'tqdm'"
     ]
    }
   ],
   "source": [
    "import tensorflow as tf\n",
    "import pandas as pd\n",
    "import tensorflow_hub as hub\n",
    "import os\n",
    "import re\n",
    "import numpy as np\n",
    "from bert.tokenization import FullTokenizer\n",
    "from tqdm import tqdm_notebook\n",
    "from tensorflow.keras import backend as K"
   ]
  },
  {
   "cell_type": "code",
   "execution_count": 6,
   "metadata": {},
   "outputs": [],
   "source": [
    "df= pd.read_csv('data_5_products.csv', index_col='Complaint ID', usecols=['Product','Sub-product', 'Issue', 'Sub-issue', 'Consumer complaint narrative', 'Complaint ID'])"
   ]
  },
  {
   "cell_type": "code",
   "execution_count": 7,
   "metadata": {},
   "outputs": [
    {
     "data": {
      "text/html": [
       "<div>\n",
       "<style scoped>\n",
       "    .dataframe tbody tr th:only-of-type {\n",
       "        vertical-align: middle;\n",
       "    }\n",
       "\n",
       "    .dataframe tbody tr th {\n",
       "        vertical-align: top;\n",
       "    }\n",
       "\n",
       "    .dataframe thead th {\n",
       "        text-align: right;\n",
       "    }\n",
       "</style>\n",
       "<table border=\"1\" class=\"dataframe\">\n",
       "  <thead>\n",
       "    <tr style=\"text-align: right;\">\n",
       "      <th></th>\n",
       "      <th>Product</th>\n",
       "      <th>Sub-product</th>\n",
       "      <th>Issue</th>\n",
       "      <th>Sub-issue</th>\n",
       "      <th>Consumer complaint narrative</th>\n",
       "    </tr>\n",
       "    <tr>\n",
       "      <th>Complaint ID</th>\n",
       "      <th></th>\n",
       "      <th></th>\n",
       "      <th></th>\n",
       "      <th></th>\n",
       "      <th></th>\n",
       "    </tr>\n",
       "  </thead>\n",
       "  <tbody>\n",
       "    <tr>\n",
       "      <th>1297939</th>\n",
       "      <td>Credit card</td>\n",
       "      <td>NaN</td>\n",
       "      <td>Other</td>\n",
       "      <td>NaN</td>\n",
       "      <td>Received Capital One charge card offer XXXX. A...</td>\n",
       "    </tr>\n",
       "    <tr>\n",
       "      <th>1296693</th>\n",
       "      <td>Credit card</td>\n",
       "      <td>NaN</td>\n",
       "      <td>Rewards</td>\n",
       "      <td>NaN</td>\n",
       "      <td>I 'm a longtime member of Charter One Bank/RBS...</td>\n",
       "    </tr>\n",
       "    <tr>\n",
       "      <th>1296727</th>\n",
       "      <td>Debt collection</td>\n",
       "      <td>Payday loan</td>\n",
       "      <td>Improper contact or sharing of info</td>\n",
       "      <td>Talked to a third party about my debt</td>\n",
       "      <td>I received a call from a XXXX XXXX from XXXX @...</td>\n",
       "    </tr>\n",
       "    <tr>\n",
       "      <th>1296785</th>\n",
       "      <td>Credit reporting</td>\n",
       "      <td>NaN</td>\n",
       "      <td>Incorrect information on credit report</td>\n",
       "      <td>Information is not mine</td>\n",
       "      <td>I had my purse stolen in 2007. They never foun...</td>\n",
       "    </tr>\n",
       "    <tr>\n",
       "      <th>1295146</th>\n",
       "      <td>Debt collection</td>\n",
       "      <td>Mortgage</td>\n",
       "      <td>Communication tactics</td>\n",
       "      <td>Threatened to take legal action</td>\n",
       "      <td>Going through a divorce, my ex and I were unab...</td>\n",
       "    </tr>\n",
       "  </tbody>\n",
       "</table>\n",
       "</div>"
      ],
      "text/plain": [
       "                       Product  Sub-product  \\\n",
       "Complaint ID                                  \n",
       "1297939            Credit card          NaN   \n",
       "1296693            Credit card          NaN   \n",
       "1296727        Debt collection  Payday loan   \n",
       "1296785       Credit reporting          NaN   \n",
       "1295146        Debt collection     Mortgage   \n",
       "\n",
       "                                               Issue  \\\n",
       "Complaint ID                                           \n",
       "1297939                                        Other   \n",
       "1296693                                      Rewards   \n",
       "1296727          Improper contact or sharing of info   \n",
       "1296785       Incorrect information on credit report   \n",
       "1295146                        Communication tactics   \n",
       "\n",
       "                                          Sub-issue  \\\n",
       "Complaint ID                                          \n",
       "1297939                                         NaN   \n",
       "1296693                                         NaN   \n",
       "1296727       Talked to a third party about my debt   \n",
       "1296785                     Information is not mine   \n",
       "1295146             Threatened to take legal action   \n",
       "\n",
       "                                   Consumer complaint narrative  \n",
       "Complaint ID                                                     \n",
       "1297939       Received Capital One charge card offer XXXX. A...  \n",
       "1296693       I 'm a longtime member of Charter One Bank/RBS...  \n",
       "1296727       I received a call from a XXXX XXXX from XXXX @...  \n",
       "1296785       I had my purse stolen in 2007. They never foun...  \n",
       "1295146       Going through a divorce, my ex and I were unab...  "
      ]
     },
     "execution_count": 7,
     "metadata": {},
     "output_type": "execute_result"
    }
   ],
   "source": [
    "df.head()"
   ]
  },
  {
   "cell_type": "code",
   "execution_count": 8,
   "metadata": {},
   "outputs": [
    {
     "data": {
      "text/plain": [
       "Product                         36958\n",
       "Sub-product                     20302\n",
       "Issue                           36958\n",
       "Sub-issue                       15661\n",
       "Consumer complaint narrative    36958\n",
       "dtype: int64"
      ]
     },
     "execution_count": 8,
     "metadata": {},
     "output_type": "execute_result"
    }
   ],
   "source": [
    "df.count()"
   ]
  },
  {
   "cell_type": "code",
   "execution_count": 10,
   "metadata": {},
   "outputs": [
    {
     "data": {
      "text/plain": [
       "Checking account                          4276\n",
       "Conventional fixed mortgage               3226\n",
       "Other (i.e. phone, health club, etc.)     2164\n",
       "Other bank product/service                1378\n",
       "FHA mortgage                              1343\n",
       "Credit card                               1338\n",
       "Conventional adjustable mortgage (ARM)    1203\n",
       "I do not know                             1174\n",
       "Medical                                   1120\n",
       "Other mortgage                             693\n",
       "Home equity loan or line of credit         465\n",
       "Payday loan                                401\n",
       "Savings account                            344\n",
       "VA mortgage                                343\n",
       "Mortgage                                   208\n",
       "Auto                                       169\n",
       "Non-federal student loan                   129\n",
       "(CD) Certificate of deposit                125\n",
       "Federal student loan                        94\n",
       "Reverse mortgage                            62\n",
       "Cashing a check without an account          47\n",
       "Name: Sub-product, dtype: int64"
      ]
     },
     "execution_count": 10,
     "metadata": {},
     "output_type": "execute_result"
    }
   ],
   "source": [
    "df['Sub-product'].value_counts()"
   ]
  },
  {
   "cell_type": "code",
   "execution_count": 24,
   "metadata": {},
   "outputs": [
    {
     "data": {
      "text/plain": [
       "Product                         36958\n",
       "Sub-product                     20302\n",
       "Issue                           36958\n",
       "Sub-issue                       15661\n",
       "Consumer complaint narrative    36958\n",
       "dtype: int64"
      ]
     },
     "execution_count": 24,
     "metadata": {},
     "output_type": "execute_result"
    }
   ],
   "source": [
    "x=df[df['Product']=='Credit card']\n",
    "x.count()"
   ]
  },
  {
   "cell_type": "code",
   "execution_count": 22,
   "metadata": {},
   "outputs": [
    {
     "data": {
      "text/plain": [
       "Product                         36958\n",
       "Sub-product                     20302\n",
       "Issue                           36958\n",
       "Sub-issue                       15661\n",
       "Consumer complaint narrative    36958\n",
       "dtype: int64"
      ]
     },
     "execution_count": 22,
     "metadata": {},
     "output_type": "execute_result"
    }
   ],
   "source": [
    "df.count()"
   ]
  },
  {
   "cell_type": "code",
   "execution_count": null,
   "metadata": {},
   "outputs": [],
   "source": []
  }
 ],
 "metadata": {
  "kernelspec": {
   "display_name": "Python 3",
   "language": "python",
   "name": "python3"
  },
  "language_info": {
   "codemirror_mode": {
    "name": "ipython",
    "version": 3
   },
   "file_extension": ".py",
   "mimetype": "text/x-python",
   "name": "python",
   "nbconvert_exporter": "python",
   "pygments_lexer": "ipython3",
   "version": "3.7.3"
  }
 },
 "nbformat": 4,
 "nbformat_minor": 2
}
